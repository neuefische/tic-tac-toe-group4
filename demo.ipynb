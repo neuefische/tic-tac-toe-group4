{
 "cells": [
  {
   "cell_type": "code",
   "execution_count": 3,
   "metadata": {},
   "outputs": [
    {
     "name": "stdout",
     "output_type": "stream",
     "text": [
      "move: 1    player: 1\n",
      "move: 2    player: -1\n",
      "move: 3    player: 1\n",
      "move: 4    player: -1\n",
      "move: 5    player: 1\n",
      "move: 6    player: -1\n",
      "move: 7    player: 1\n",
      "move: 8    player: -1\n",
      "move: 9    player: 1\n"
     ]
    }
   ],
   "source": [
    "from itertools import cycle\n",
    "\n",
    "\n",
    "for move, player in zip( range(1,10), cycle([1,-1]) ):\n",
    "    print(\"move:\", move, \"   player:\", player)\n"
   ]
  },
  {
   "cell_type": "code",
   "execution_count": null,
   "metadata": {},
   "outputs": [],
   "source": []
  }
 ],
 "metadata": {
  "kernelspec": {
   "display_name": "nf_base",
   "language": "python",
   "name": "python3"
  },
  "language_info": {
   "codemirror_mode": {
    "name": "ipython",
    "version": 3
   },
   "file_extension": ".py",
   "mimetype": "text/x-python",
   "name": "python",
   "nbconvert_exporter": "python",
   "pygments_lexer": "ipython3",
   "version": "3.9.17"
  },
  "orig_nbformat": 4
 },
 "nbformat": 4,
 "nbformat_minor": 2
}
